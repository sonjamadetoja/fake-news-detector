{
 "cells": [
  {
   "cell_type": "code",
   "execution_count": 46,
   "id": "fc744553-d630-4eaa-beb5-a4ce105c81c0",
   "metadata": {},
   "outputs": [],
   "source": [
    "import pandas as pd\n",
    "from sklearn.model_selection import train_test_split\n",
    "import re\n",
    "import nltk\n",
    "from nltk.corpus import stopwords\n",
    "from nltk.stem import PorterStemmer\n",
    "from sklearn.feature_extraction.text import TfidfVectorizer\n",
    "from sklearn.linear_model import LogisticRegression\n",
    "from sklearn.model_selection import train_test_split\n",
    "from sklearn.metrics import accuracy_score, classification_report"
   ]
  },
  {
   "cell_type": "code",
   "execution_count": 31,
   "id": "34180ab3-7e10-44cf-ab49-8a471b279566",
   "metadata": {},
   "outputs": [],
   "source": [
    "fake_news_data = pd.read_csv(\"../data/Fake.csv\")\n",
    "real_news_data = pd.read_csv(\"../data/True.csv\")\n",
    "fake_news_data[\"label\"] = 1\n",
    "real_news_data[\"label\"] = 0"
   ]
  },
  {
   "cell_type": "code",
   "execution_count": 32,
   "id": "7aeac49b-86d7-4672-982e-16e3fe294c00",
   "metadata": {},
   "outputs": [],
   "source": [
    "df = pd.concat([fake_news_data, real_news_data])\n",
    "df = df.sample(frac=1, random_state=42).reset_index(drop=True)\n",
    "df = df.drop(columns=[\"subject\", \"date\"])\n",
    "df[\"content\"] = df[\"title\"] + ' ' + df[\"text\"]"
   ]
  },
  {
   "cell_type": "code",
   "execution_count": 36,
   "id": "a206f538-8fa3-4240-9409-acb419ce6035",
   "metadata": {},
   "outputs": [
    {
     "name": "stderr",
     "output_type": "stream",
     "text": [
      "[nltk_data] Downloading package stopwords to /home/sonja/nltk_data...\n",
      "[nltk_data]   Package stopwords is already up-to-date!\n"
     ]
    }
   ],
   "source": [
    "nltk.download('stopwords')\n",
    "stop_words = set(stopwords.words('english'))\n",
    "stemmer = PorterStemmer()\n",
    "\n",
    "def clean_text(text):\n",
    "    text = text.lower()\n",
    "    text = re.sub(r'\\W', ' ', text)\n",
    "    words = text.split()\n",
    "    stems = [stemmer.stem(word) for word in words if word not in stop_words]\n",
    "    new_text = ' '.join(stems)\n",
    "    return new_text"
   ]
  },
  {
   "cell_type": "code",
   "execution_count": 37,
   "id": "2b050647-a7c1-473b-8358-45cea2ddda7a",
   "metadata": {},
   "outputs": [],
   "source": [
    "df['clean content'] = df['content'].apply(clean_text)"
   ]
  },
  {
   "cell_type": "code",
   "execution_count": 42,
   "id": "f36d1f3f-f65a-4aeb-82a7-20e7c8532a24",
   "metadata": {},
   "outputs": [],
   "source": [
    "tfidf = TfidfVectorizer()\n",
    "X = tfidf.fit_transform(df['clean content'])\n",
    "y = df['label']\n",
    "\n",
    "X_train, X_test, y_train, y_test = train_test_split(X, y,test_size=0.2, random_state=42)"
   ]
  },
  {
   "cell_type": "code",
   "execution_count": 43,
   "id": "fbf6cab6-69c6-42ff-b9ca-f40d2c0b83c4",
   "metadata": {},
   "outputs": [],
   "source": [
    "model = LogisticRegression(random_state=0)\n",
    "model.fit(X_train, y_train)\n",
    "y_pred = model.predict(X_test)"
   ]
  },
  {
   "cell_type": "code",
   "execution_count": 45,
   "id": "c1aadd1b-8af2-4e9d-8538-3b44fd82b1ff",
   "metadata": {},
   "outputs": [
    {
     "name": "stdout",
     "output_type": "stream",
     "text": [
      "Accuracy: 0.9851893095768374\n",
      "---\n",
      "Report:               precision    recall  f1-score   support\n",
      "\n",
      "           0       0.98      0.99      0.98      4270\n",
      "           1       0.99      0.98      0.99      4710\n",
      "\n",
      "    accuracy                           0.99      8980\n",
      "   macro avg       0.99      0.99      0.99      8980\n",
      "weighted avg       0.99      0.99      0.99      8980\n",
      "\n"
     ]
    }
   ],
   "source": [
    "accuracy = accuracy_score(y_test, y_pred)\n",
    "print(\"Accuracy:\",accuracy)\n",
    "print(\"---\")\n",
    "report = classification_report(y_test, y_pred)\n",
    "print(\"Report:\", report)"
   ]
  },
  {
   "cell_type": "markdown",
   "id": "b4438926-d9a0-4e69-a428-3f74e7c29d1a",
   "metadata": {},
   "source": [
    "precision: How many predicted positives were actually correct\n",
    "→ TP / (TP + FP)\n",
    "→ High precision = low false positives\n",
    "\n",
    "recall: How many actual positives were correctly predicted\n",
    "→ TP / (TP + FN)\n",
    "→ High recall = low false negatives\n",
    "\n",
    "f1-score: Harmonic mean of precision & recall (balances both)\n",
    "→ 2 * (precision * recall) / (precision + recall)\n",
    "\n",
    "support: Number of actual samples in each class"
   ]
  },
  {
   "cell_type": "code",
   "execution_count": null,
   "id": "24967e8a-97b3-4347-9bd4-510053e0f756",
   "metadata": {},
   "outputs": [],
   "source": []
  }
 ],
 "metadata": {
  "kernelspec": {
   "display_name": "fake_news_env",
   "language": "python",
   "name": "fake-news-env"
  },
  "language_info": {
   "codemirror_mode": {
    "name": "ipython",
    "version": 3
   },
   "file_extension": ".py",
   "mimetype": "text/x-python",
   "name": "python",
   "nbconvert_exporter": "python",
   "pygments_lexer": "ipython3",
   "version": "3.13.4"
  }
 },
 "nbformat": 4,
 "nbformat_minor": 5
}
