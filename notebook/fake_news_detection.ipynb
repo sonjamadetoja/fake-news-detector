{
 "cells": [
  {
   "cell_type": "code",
   "execution_count": 28,
   "id": "fc744553-d630-4eaa-beb5-a4ce105c81c0",
   "metadata": {},
   "outputs": [],
   "source": [
    "import pandas as pd\n",
    "from sklearn.model_selection import train_test_split\n",
    "import re\n",
    "import nltk\n",
    "from nltk.corpus import stopwords\n",
    "from nltk.stem import PorterStemmer\n",
    "from sklearn.feature_extraction.text import TfidfVectorizer\n",
    "from sklearn.linear_model import LogisticRegression\n",
    "from sklearn.model_selection import train_test_split\n",
    "from sklearn.metrics import accuracy_score, classification_report"
   ]
  },
  {
   "cell_type": "code",
   "execution_count": 4,
   "id": "34180ab3-7e10-44cf-ab49-8a471b279566",
   "metadata": {},
   "outputs": [],
   "source": [
    "fake_news_data = pd.read_csv(\"../data/Fake.csv\")\n",
    "real_news_data = pd.read_csv(\"../data/True.csv\")\n",
    "fake_news_data[\"label\"] = 1\n",
    "real_news_data[\"label\"] = 0"
   ]
  },
  {
   "cell_type": "code",
   "execution_count": 20,
   "id": "7aeac49b-86d7-4672-982e-16e3fe294c00",
   "metadata": {},
   "outputs": [],
   "source": [
    "df = pd.concat([fake_news_data, real_news_data])\n",
    "df = df.sample(frac=1, random_state=42).reset_index(drop=True)\n",
    "df = df.drop(columns=[\"subject\", \"date\"])\n",
    "df[\"content\"] = df[\"title\"] + ' ' + df[\"text\"]"
   ]
  },
  {
   "cell_type": "code",
   "execution_count": 21,
   "id": "929903cc-b36c-4737-be97-c88ef65182d3",
   "metadata": {},
   "outputs": [],
   "source": [
    "#train_df, test_df = train_test_split(df,test_size=0.2, random_state=42)"
   ]
  },
  {
   "cell_type": "code",
   "execution_count": 27,
   "id": "a206f538-8fa3-4240-9409-acb419ce6035",
   "metadata": {},
   "outputs": [
    {
     "name": "stderr",
     "output_type": "stream",
     "text": [
      "[nltk_data] Downloading package stopwords to /home/sonja/nltk_data...\n",
      "[nltk_data]   Package stopwords is already up-to-date!\n"
     ]
    }
   ],
   "source": [
    "nltk.download('stopwords')\n",
    "stop_words = set(stopwords.words('english'))\n",
    "stemmer = PorterStemmer()\n",
    "\n",
    "def clean_text(text):\n",
    "    text = text.lower()\n",
    "    text = re.sub(r'\\W', ' ', text)\n",
    "    words = text.split()\n",
    "    stems = [stemmer.stem(word) for word in words if word not in stopwords]\n",
    "    new_text = ' '.join(stems)\n",
    "    return new_text"
   ]
  },
  {
   "cell_type": "code",
   "execution_count": null,
   "id": "2b050647-a7c1-473b-8358-45cea2ddda7a",
   "metadata": {},
   "outputs": [],
   "source": [
    "\n"
   ]
  },
  {
   "cell_type": "code",
   "execution_count": null,
   "id": "f36d1f3f-f65a-4aeb-82a7-20e7c8532a24",
   "metadata": {},
   "outputs": [],
   "source": []
  }
 ],
 "metadata": {
  "kernelspec": {
   "display_name": "fake_news_env",
   "language": "python",
   "name": "fake-news-env"
  },
  "language_info": {
   "codemirror_mode": {
    "name": "ipython",
    "version": 3
   },
   "file_extension": ".py",
   "mimetype": "text/x-python",
   "name": "python",
   "nbconvert_exporter": "python",
   "pygments_lexer": "ipython3",
   "version": "3.13.4"
  }
 },
 "nbformat": 4,
 "nbformat_minor": 5
}
